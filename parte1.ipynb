{
 "cells": [
  {
   "cell_type": "markdown",
   "metadata": {},
   "source": [
    "# Minitrabalho 1 – Filtro colaborativo"
   ]
  },
  {
   "cell_type": "markdown",
   "metadata": {},
   "source": [
    "## 1) Algoritmo de força-bruta\n"
   ]
  },
  {
   "cell_type": "markdown",
   "metadata": {},
   "source": [
    "##### 1.a) [1 valor] Descreva brevemente qual seria o algoritmo de força-bruta que resolve o problema do número de inversões num array."
   ]
  },
  {
   "cell_type": "markdown",
   "metadata": {},
   "source": [
    "__R:__ O algoritmo de força-bruta que resolve o problema do número de inversões num array seria percorrer o array e para cada elemento, percorrer o restante do array e verificar se o elemento atual é maior do que o elemento que estamos a comparar. Caso seja, incrementa-se o contador de inversões. No final, devolve-se o contador de inversões que contém o número de inversões no array."
   ]
  },
  {
   "cell_type": "markdown",
   "metadata": {},
   "source": [
    "##### 1.b) [1 valor] Implemente em Python o algoritmo descrito na alínea anterior. O algoritmo deve receber como entrada uma coleção de inteiros, e devolver o número de inversões encontrados nesta coleção."
   ]
  },
  {
   "cell_type": "code",
   "execution_count": 2,
   "metadata": {},
   "outputs": [],
   "source": [
    "def count_inversions_brute_force(arr):\n",
    "    count = 0\n",
    "    n = len(arr)\n",
    "    for i in range(n):                  \n",
    "        for j in range(i+1, n):         \n",
    "            if arr[i] > arr[j]:         \n",
    "                count += 1\n",
    "    return count"
   ]
  },
  {
   "cell_type": "markdown",
   "metadata": {},
   "source": [
    "##### 1.c) [3 valores] Apresente uma análise assintótica do seu algoritmo, considerando o número de acessos ao array (ou seja, o número de acessos para leitura e escrita de uma posição do array) que são executados para o seu algoritmo em função do tamanho, n, do array. Nota: É esperado que sejam apresentados os cálculos completos do número de acessos assim como a correspondente conclusão sobre o tempo de execução do algoritmo (utilizando notação assintótica)."
   ]
  },
  {
   "cell_type": "markdown",
   "metadata": {},
   "source": [
    "**R: Análise assintótica do algoritmo:**\n",
    "\n",
    "Quando se obtém o tamanho do array acede-se 1 vez à memória: `n = len(arr)`\n",
    "\n",
    "No loop externo, faz se variar i de 0 a n-1, enquanto que no loop interno faz se variar `j` de `i+1` a `n-1`, pelo que dentro dos loops se aceda à memória 2 vezes em cada iteração `(if arr[i] > arr[j]:)`:\n",
    "\n",
    "$$\n",
    "\\sum_{i=0}^{n-1} \\sum_{j=i+1}^{n-1} 2\n",
    "$$\n",
    "\n",
    "Percebe-se que para cada iteração i, o loop internoio executa-se `n-i-1` vezes pelo que podemso simplificar a expressão para:\n",
    "\n",
    "$$\n",
    "\\sum_{i=0}^{n-1} 2*(n - i - 1)\n",
    "$$\n",
    "\n",
    "Por sua vez, deparamo-nos com uma soma de sucessões aritméticas, e assim temos:\n",
    "\n",
    "$$\n",
    "2 * \\frac{n*(n-1)}{2} = n^2 - n\n",
    "$$\n",
    "\n",
    "Finalmente, em termos de notação assintótica descartamos os termos constantes e de ordem inferior pelo que o algorimo tem uma complexidade de:\n",
    "\n",
    "$$O(n^2)$$\n",
    "\n",
    "\n",
    "\n",
    "\n"
   ]
  },
  {
   "cell_type": "markdown",
   "metadata": {},
   "source": [
    "## 2) Algoritmo dividir-e-conquistar"
   ]
  },
  {
   "cell_type": "markdown",
   "metadata": {},
   "source": [
    "##### 2.a) [3 valores] Proponha uma solução melhorada que utilize a estratégia dividir-e-conquistar para resolver o problema do número de inversões num array de forma mais eficiente. \n",
    "Nota: É esperado que sejam descritos os passos básicos para a conceção do seu algoritmo. Deve também apresentar o pseudocódigo correspondente.\n",
    "\n",
    "Dica: A solução passará por utilizar um dos algoritmos de ordenação abordados nas aulas."
   ]
  },
  {
   "cell_type": "markdown",
   "metadata": {},
   "source": [
    "**R:** Uma solução que utiliza a estratégia dividir-e-conquistar que resolve o problema do número de inversões seria criar uma adaptação do Merge Sort que conta o numero de inversões durante o processo de ordenação.\n",
    "\n",
    "Inicialmente verifica-se se o array é constituído por 1 ou 0 elementos e caso o seja o número de inversões é 0 uma vez que o array se encontra já ordenado\n",
    "\n",
    "Seguidamente divide-se a lista em duas metades(left e right) e aplica-se recursivamente o algoritmo a ambas as metades\n",
    "\n",
    "Numa outra função combinamos as duas metades ordenadas e durante a mesclagem, se um elemento da metade left for maior que um elemento da metade right, incrementa o contador pelo numero de elementos nao analisados na metade left"
   ]
  },
  {
   "cell_type": "markdown",
   "metadata": {},
   "source": [
    "##### 2.b) [2 valores] Implemente em Python o algoritmo descrito na alínea anterior. O algoritmo deve receber como entrada uma coleção de inteiros, e devolver o número de inversões encontrados nesta coleção."
   ]
  },
  {
   "cell_type": "code",
   "execution_count": 2,
   "metadata": {},
   "outputs": [
    {
     "name": "stdout",
     "output_type": "stream",
     "text": [
      "6\n"
     ]
    }
   ],
   "source": [
    "def mergeSortInversions(arr):\n",
    "    if len(arr) <= 1:\n",
    "        return 0\n",
    "    else:\n",
    "        mid = len(arr) // 2\n",
    "        left = arr[:mid]\n",
    "        right = arr[mid:]\n",
    "        count = mergeSortInversions(left)\n",
    "        count += mergeSortInversions(right)\n",
    "        count += merge(left, right, arr)\n",
    "        return count\n",
    "    \n",
    "def merge(left, right, arr):\n",
    "    i,j,k,count = 0,0,0,0\n",
    "    while i < len(left) and j < len(right):\n",
    "        if left[i] <= right[j]:\n",
    "            arr[k] = left[i]\n",
    "            i += 1\n",
    "        else:\n",
    "            arr[k] = right[j]\n",
    "            j += 1\n",
    "            count += (len(left) - i)\n",
    "        k += 1\n",
    "    while i < len(left):\n",
    "        arr[k] = left[i]\n",
    "        i += 1\n",
    "        k += 1\n",
    "    while j < len(right):\n",
    "        arr[k] = right[j]\n",
    "        j += 1\n",
    "        k += 1\n",
    "    return count\n",
    "\n",
    "#testes\n",
    "\n",
    "print(mergeSortInversions([4,5,1,2,3]))"
   ]
  },
  {
   "cell_type": "markdown",
   "metadata": {},
   "source": [
    "##### 2.c) [3 valores] Utilizando o método de indução, mostre que o seu algoritmo está correto.\n",
    "Nota: Inicie por apresentar um pseudocódigo simplificado do seu algoritmo (se ainda não o fez na\n",
    "alínea 2.a)). Para facilitar, pode também considerar que o tamanho n do array é uma potência de 2."
   ]
  },
  {
   "cell_type": "markdown",
   "metadata": {},
   "source": [
    "**R:** **Hipótese de Indução:** O algoritmo mergeSortInversions calcula corretamente o número de inversões para todos os arrays de tamanho menor que n.\n",
    "\n",
    "**Caso Base (len(arr)<=1):** Numa lista com 1 ou 0 elementos não há inversões, pelo que o algoritmo devolve 0\n",
    "\n",
    "**Passo Indutivo:** Supondo que o algoritmo está correto para todas as listas com tamanho menor que n, temos de provar que o algoritmo é correto para uma lista de tamanho n.\n",
    "\n",
    "O algoritmo divide a lista em duas metades, left e right, e recursivamente determina o numero de inversoes em cada uma das metades. Como cada metade tem tamanho menor que n pela H.I., sabemos que o algoritmo calcula corretamente o numero de inversoes em cada metade\n",
    "\n",
    "Seguidamente, o algoritmo calcula as inversões entre as duas metades na função merge. Quando um elemento em right é menor que um elemento em left, sabemos que há (len(left) - i) inversões, uma vez que left e right estão ordenados. Portanto, o algoritmo calcula corretamente as inversões entre as duas metades.\n",
    "\n",
    "**Conclusão:** Assim, o algoritmo mergeSortInversions calcula corretamente o número total de inversões em um array de tamanho n.\n",
    "\n",
    "\n"
   ]
  },
  {
   "cell_type": "markdown",
   "metadata": {},
   "source": [
    "**R:** **Invariante do ciclo:** No início de cada iteração do ciclo while na funçã merge, os primeiros i elementos de left já foram ordenados e os primeiros j elementos de right tambem ja foram ordenados e combinados na lista\n",
    "\n",
    "**Inicialização:** Antes da primeira iteração, i, j e k são 0, logo left e right não têm prefixos e, por isso, o numero de inversões é 0\n",
    "\n",
    "**Manutenção:** Se o invariante de loop é verdadeiro antes de uma iteração do loop, permanece verdadeiro para a próxima iteração. O loop extrai o menor elemento dos prefixos restantes de left e right, coloca-o na lista arr e incrementa i ou j e k. Se um elemento de right é selecionado, o número de inversões é incrementado por (len(left) - i)\n",
    "\n",
    "**Finalização:** No final do ciclo, i e j terão percorrido completamente left e right, respectivamente, o que significa que todos os elementos foram ordenados e combinados na lista arr, e todas as inversões foram contabilizadas. Isto mostra que o algoritmo mergeSortInversions está correto."
   ]
  },
  {
   "cell_type": "markdown",
   "metadata": {},
   "source": [
    "##### 2.d) [3 valores] Apresente uma análise assintótica do seu algoritmo, utilizando uma das técnicas abordadas em aula, ou seja, o teorema principal, ou o método da indução e substituição.\n",
    "Nota: É esperado que apresente a fórmula recorrente do cálculo do trabalho do seu algoritmo bem\n",
    "como os passos necessários para estabelecer a ordem de complexidade do algoritmo (utilizando\n",
    "notação assintótica)."
   ]
  },
  {
   "cell_type": "markdown",
   "metadata": {},
   "source": []
  },
  {
   "cell_type": "markdown",
   "metadata": {},
   "source": [
    "## 3) Análise empírica"
   ]
  },
  {
   "cell_type": "markdown",
   "metadata": {},
   "source": [
    "##### 3.a) [1 valores] Crie uma bateria de testes e cronometre o tempo de execução de cada um dos algoritmos desenvolvidos em 1) e 2). Repita cada cronometragem, pelo menos, 35 vezes e registe o tempo médio de execução para cada algoritmo.\n",
    "Nota: Exatamente a mesma coleção deve ser gerada antes das invocações dos diferentes algoritmos\n",
    "nos respetivos testes. Esta coleção deve conter números inteiros aleatórios sem repetição."
   ]
  },
  {
   "cell_type": "code",
   "execution_count": 4,
   "metadata": {},
   "outputs": [
    {
     "ename": "TypeError",
     "evalue": "'int' object is not subscriptable",
     "output_type": "error",
     "traceback": [
      "\u001b[1;31m---------------------------------------------------------------------------\u001b[0m",
      "\u001b[1;31mTypeError\u001b[0m                                 Traceback (most recent call last)",
      "Cell \u001b[1;32mIn[4], line 34\u001b[0m\n\u001b[0;32m     31\u001b[0m     plt\u001b[38;5;241m.\u001b[39mshow()\n\u001b[0;32m     33\u001b[0m \u001b[38;5;66;03m# Call the plot_test_results function\u001b[39;00m\n\u001b[1;32m---> 34\u001b[0m plot_test_results()\n",
      "Cell \u001b[1;32mIn[4], line 24\u001b[0m, in \u001b[0;36mplot_test_results\u001b[1;34m()\u001b[0m\n\u001b[0;32m     22\u001b[0m \u001b[38;5;28;01mfor\u001b[39;00m size \u001b[38;5;129;01min\u001b[39;00m array_sizes:\n\u001b[0;32m     23\u001b[0m     times_brute_force\u001b[38;5;241m.\u001b[39mappend(test_sorting_algorithm(count_inversions_brute_force, size))\n\u001b[1;32m---> 24\u001b[0m     times_merge_sort\u001b[38;5;241m.\u001b[39mappend(test_sorting_algorithm(\u001b[38;5;28;01mlambda\u001b[39;00m arr: mergeSortInversions(arr)[\u001b[38;5;241m1\u001b[39m], size))\n\u001b[0;32m     25\u001b[0m plt\u001b[38;5;241m.\u001b[39mplot(array_sizes, times_brute_force, label\u001b[38;5;241m=\u001b[39m\u001b[38;5;124m'\u001b[39m\u001b[38;5;124mcount_inversions_brute_force\u001b[39m\u001b[38;5;124m'\u001b[39m)\n\u001b[0;32m     26\u001b[0m plt\u001b[38;5;241m.\u001b[39mplot(array_sizes, times_merge_sort, label\u001b[38;5;241m=\u001b[39m\u001b[38;5;124m'\u001b[39m\u001b[38;5;124mmergeSortInversions\u001b[39m\u001b[38;5;124m'\u001b[39m)\n",
      "Cell \u001b[1;32mIn[4], line 13\u001b[0m, in \u001b[0;36mtest_sorting_algorithm\u001b[1;34m(algorithm, array_size)\u001b[0m\n\u001b[0;32m     11\u001b[0m start_time \u001b[38;5;241m=\u001b[39m time\u001b[38;5;241m.\u001b[39mtime()\n\u001b[0;32m     12\u001b[0m \u001b[38;5;28;01mfor\u001b[39;00m _ \u001b[38;5;129;01min\u001b[39;00m \u001b[38;5;28mrange\u001b[39m(\u001b[38;5;241m35\u001b[39m):\n\u001b[1;32m---> 13\u001b[0m     algorithm(\u001b[38;5;28mlist\u001b[39m(array))  \u001b[38;5;66;03m# We use list(array) to create a copy of the array\u001b[39;00m\n\u001b[0;32m     14\u001b[0m end_time \u001b[38;5;241m=\u001b[39m time\u001b[38;5;241m.\u001b[39mtime()\n\u001b[0;32m     16\u001b[0m \u001b[38;5;28;01mreturn\u001b[39;00m (end_time \u001b[38;5;241m-\u001b[39m start_time) \u001b[38;5;241m/\u001b[39m \u001b[38;5;241m35\u001b[39m\n",
      "Cell \u001b[1;32mIn[4], line 24\u001b[0m, in \u001b[0;36mplot_test_results.<locals>.<lambda>\u001b[1;34m(arr)\u001b[0m\n\u001b[0;32m     22\u001b[0m \u001b[38;5;28;01mfor\u001b[39;00m size \u001b[38;5;129;01min\u001b[39;00m array_sizes:\n\u001b[0;32m     23\u001b[0m     times_brute_force\u001b[38;5;241m.\u001b[39mappend(test_sorting_algorithm(count_inversions_brute_force, size))\n\u001b[1;32m---> 24\u001b[0m     times_merge_sort\u001b[38;5;241m.\u001b[39mappend(test_sorting_algorithm(\u001b[38;5;28;01mlambda\u001b[39;00m arr: mergeSortInversions(arr)[\u001b[38;5;241m1\u001b[39m], size))\n\u001b[0;32m     25\u001b[0m plt\u001b[38;5;241m.\u001b[39mplot(array_sizes, times_brute_force, label\u001b[38;5;241m=\u001b[39m\u001b[38;5;124m'\u001b[39m\u001b[38;5;124mcount_inversions_brute_force\u001b[39m\u001b[38;5;124m'\u001b[39m)\n\u001b[0;32m     26\u001b[0m plt\u001b[38;5;241m.\u001b[39mplot(array_sizes, times_merge_sort, label\u001b[38;5;241m=\u001b[39m\u001b[38;5;124m'\u001b[39m\u001b[38;5;124mmergeSortInversions\u001b[39m\u001b[38;5;124m'\u001b[39m)\n",
      "\u001b[1;31mTypeError\u001b[0m: 'int' object is not subscriptable"
     ]
    }
   ],
   "source": [
    "import time\n",
    "import random\n",
    "\n",
    "def test_sorting_algorithm(algorithm, array_size):\n",
    "    # Generate the input array\n",
    "    array = list(range(array_size))\n",
    "    \n",
    "    # Test scenario 3: Random array\n",
    "    random.shuffle(array)\n",
    "    start_time = time.time()\n",
    "    for _ in range(35):\n",
    "        algorithm(array)\n",
    "    end_time = time.time()\n",
    "    random_time = (end_time - start_time) / 35\n",
    "    \n",
    "    return sorted_time, reverse_sorted_time, random_time\n",
    "\n",
    "def plot_test_results(algorithm, algorithm_name):\n",
    "    array_sizes = list(range(100, 1000, 100))\n",
    "    sorted_times = []\n",
    "    reverse_sorted_times = []\n",
    "    random_times = []\n",
    "    for size in array_sizes:\n",
    "        sorted_time, reverse_sorted_time, random_time = test_sorting_algorithm(algorithm, size)\n",
    "        sorted_times.append(sorted_time)\n",
    "        reverse_sorted_times.append(reverse_sorted_time)\n",
    "        random_times.append(random_time)\n",
    "    plt.plot(array_sizes, sorted_times, label='Sorted array')\n",
    "    plt.plot(array_sizes, reverse_sorted_times, label='Reverse sorted array')\n",
    "    plt.plot(array_sizes, random_times, label='Random array')\n",
    "    plt.xlabel('Array size')\n",
    "    plt.ylabel('Time (s)')\n",
    "    plt.title(algorithm_name)\n",
    "    plt.legend()\n",
    "    plt.show()\n",
    "\n",
    "plot_test_results(quickSort, 'Quick sort')\n"
   ]
  },
  {
   "cell_type": "markdown",
   "metadata": {},
   "source": [
    "##### 3.b) [2 valores] Faça o plot dos tempos de execução dos dois algoritmos propostos em 1) e em 2). Que conclusões tira?\n",
    "Nota: É esperado que verifique se é possível estabelecer ligações entre as ordens de complexidade de\n",
    "cada algoritmo."
   ]
  },
  {
   "cell_type": "markdown",
   "metadata": {},
   "source": [
    "## 4) Extra"
   ]
  },
  {
   "cell_type": "markdown",
   "metadata": {},
   "source": [
    "##### 4.a) [1 valor] Proponha possíveis melhorias ao algoritmo apresentado em 2) e refaça os testes empíricos realizados em 3) para avaliar se as melhorias são visíveis na prática.\n",
    "Nota: É esperado que fundamente o porquê de estar a propor cada melhoria. É também esperada uma\n",
    "breve discussão sobre a ordem de complexidade do algoritmo melhorado."
   ]
  },
  {
   "cell_type": "code",
   "execution_count": 1,
   "metadata": {},
   "outputs": [],
   "source": []
  },
  {
   "cell_type": "code",
   "execution_count": null,
   "metadata": {},
   "outputs": [],
   "source": []
  },
  {
   "cell_type": "markdown",
   "metadata": {},
   "source": [
    "## 5) Questões Éticas"
   ]
  },
  {
   "cell_type": "markdown",
   "metadata": {},
   "source": [
    "##### Tente resolver os problemas apenas com os integrantes do seu grupo antes de colaborar. Escreva as suas respostas por suas próprias palavras. Nunca deve partilhar o ficheiro fonte com as suas soluções com integrantes de outros grupos"
   ]
  },
  {
   "cell_type": "markdown",
   "metadata": {},
   "source": [
    "##### 5.a) Se colaborou com alguém fora do seu grupo, indique aqui os respetivos nomes."
   ]
  },
  {
   "cell_type": "markdown",
   "metadata": {},
   "source": []
  },
  {
   "cell_type": "markdown",
   "metadata": {},
   "source": [
    "##### 5.b) Deve citar todas as fontes que utilizou fora do material da UC."
   ]
  },
  {
   "cell_type": "markdown",
   "metadata": {},
   "source": []
  }
 ],
 "metadata": {
  "kernelspec": {
   "display_name": "base",
   "language": "python",
   "name": "python3"
  },
  "language_info": {
   "codemirror_mode": {
    "name": "ipython",
    "version": 3
   },
   "file_extension": ".py",
   "mimetype": "text/x-python",
   "name": "python",
   "nbconvert_exporter": "python",
   "pygments_lexer": "ipython3",
   "version": "3.11.5"
  }
 },
 "nbformat": 4,
 "nbformat_minor": 2
}
